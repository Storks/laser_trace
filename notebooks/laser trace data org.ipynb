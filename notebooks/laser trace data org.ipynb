{
 "cells": [
  {
   "cell_type": "code",
   "execution_count": 1,
   "metadata": {},
   "outputs": [
    {
     "ename": "ModuleNotFoundError",
     "evalue": "No module named 'pyunpack'",
     "output_type": "error",
     "traceback": [
      "\u001b[0;31m---------------------------------------------------------------------------\u001b[0m",
      "\u001b[0;31mModuleNotFoundError\u001b[0m                       Traceback (most recent call last)",
      "Cell \u001b[0;32mIn[1], line 4\u001b[0m\n\u001b[1;32m      2\u001b[0m \u001b[38;5;28;01mimport\u001b[39;00m \u001b[38;5;21;01mzipfile\u001b[39;00m\n\u001b[1;32m      3\u001b[0m \u001b[38;5;28;01mimport\u001b[39;00m \u001b[38;5;21;01mshutil\u001b[39;00m \n\u001b[0;32m----> 4\u001b[0m \u001b[38;5;28;01mfrom\u001b[39;00m \u001b[38;5;21;01mpyunpack\u001b[39;00m \u001b[38;5;28;01mimport\u001b[39;00m Archive\n",
      "\u001b[0;31mModuleNotFoundError\u001b[0m: No module named 'pyunpack'"
     ]
    }
   ],
   "source": [
    "import os\n",
    "import zipfile\n",
    "import shutil \n",
    "from pyunpack import Archive\n"
   ]
  },
  {
   "cell_type": "markdown",
   "metadata": {},
   "source": [
    "# Распаковка архива"
   ]
  },
  {
   "cell_type": "code",
   "execution_count": 2,
   "metadata": {},
   "outputs": [],
   "source": [
    "path_to_rar = '../data/raw/1400701D.E003_frames.rar'\n",
    "data_dir = '../data/processed/'\n",
    "dir_after_extract = \"../data/processed/1400701D.E003_frames/\"\n",
    "\n",
    "# if not os.path.exists(dir_after_extract):\n",
    "#     Archive(path_to_rar).extractall(data_dir)"
   ]
  },
  {
   "cell_type": "markdown",
   "metadata": {},
   "source": [
    "# Создание директорий"
   ]
  },
  {
   "cell_type": "code",
   "execution_count": 3,
   "metadata": {},
   "outputs": [],
   "source": [
    "def mk_dir_func(dir):\n",
    "    try:\n",
    "        os.mkdir(dir)\n",
    "    except:\n",
    "        pass\n",
    "    \n",
    "laser_data_dir = data_dir\n",
    "train_dir = os.path.join(laser_data_dir, 'train')\n",
    "validation_dir = os.path.join(laser_data_dir, 'validation')\n",
    "test_dir = os.path.join(laser_data_dir, 'test')\n",
    "\n",
    "train_img_dir = os.path.join(train_dir, 'img')\n",
    "train_mask_dir = os.path.join(train_dir, 'mask')\n",
    "train_trace_dir = os.path.join(train_dir, 'trace')\n",
    "\n",
    "validation_img_dir = os.path.join(validation_dir, 'img')\n",
    "validation_mask_dir = os.path.join(validation_dir, 'mask')\n",
    "validation_trace_dir = os.path.join(validation_dir, 'trace')\n",
    "\n",
    "test_img_dir = os.path.join(test_dir, 'img')\n",
    "test_mask_dir = os.path.join(test_dir, 'mask')\n",
    "test_trace_dir = os.path.join(test_dir, 'trace')\n",
    "\n",
    "\n",
    "mk_dir_func(laser_data_dir)\n",
    "mk_dir_func(train_dir)\n",
    "mk_dir_func(validation_dir)\n",
    "mk_dir_func(test_dir)\n",
    "\n",
    "\n",
    "mk_dir_func(train_img_dir)\n",
    "mk_dir_func(train_mask_dir)\n",
    "mk_dir_func(train_trace_dir)\n",
    "mk_dir_func(validation_img_dir)\n",
    "mk_dir_func(validation_mask_dir)\n",
    "mk_dir_func(validation_trace_dir)\n",
    "mk_dir_func(test_img_dir)\n",
    "mk_dir_func(test_mask_dir)\n",
    "mk_dir_func(test_trace_dir)"
   ]
  },
  {
   "cell_type": "markdown",
   "metadata": {},
   "source": [
    "# Разделение данных и копирование в рабочие директории"
   ]
  },
  {
   "cell_type": "code",
   "execution_count": 4,
   "metadata": {},
   "outputs": [
    {
     "ename": "IndexError",
     "evalue": "list index out of range",
     "output_type": "error",
     "traceback": [
      "\u001b[0;31m---------------------------------------------------------------------------\u001b[0m",
      "\u001b[0;31mIndexError\u001b[0m                                Traceback (most recent call last)",
      "Cell \u001b[0;32mIn[4], line 59\u001b[0m\n\u001b[1;32m     56\u001b[0m dst \u001b[38;5;241m=\u001b[39m os\u001b[38;5;241m.\u001b[39mpath\u001b[38;5;241m.\u001b[39mjoin(test_img_dir, img_files[i])    \n\u001b[1;32m     57\u001b[0m shutil\u001b[38;5;241m.\u001b[39mcopyfile(src, dst)\n\u001b[0;32m---> 59\u001b[0m src \u001b[38;5;241m=\u001b[39m os\u001b[38;5;241m.\u001b[39mpath\u001b[38;5;241m.\u001b[39mjoin(dir_after_extract, \u001b[43mtrace_files\u001b[49m\u001b[43m[\u001b[49m\u001b[43mi\u001b[49m\u001b[43m]\u001b[49m)    \n\u001b[1;32m     60\u001b[0m dst \u001b[38;5;241m=\u001b[39m os\u001b[38;5;241m.\u001b[39mpath\u001b[38;5;241m.\u001b[39mjoin(test_trace_dir, trace_files[i])    \n\u001b[1;32m     61\u001b[0m shutil\u001b[38;5;241m.\u001b[39mcopyfile(src, dst)\n",
      "\u001b[0;31mIndexError\u001b[0m: list index out of range"
     ]
    }
   ],
   "source": [
    "all_files = os.walk(dir_after_extract)\n",
    "\n",
    "img_files = []\n",
    "trace_files = []\n",
    "mask_files = []\n",
    "\n",
    "for f_path in all_files:\n",
    "    for file in f_path[2]:\n",
    "        if not file.startswith('~'):\n",
    "            if file.endswith('.jpg'):\n",
    "                img_files.append(file)\n",
    "            if file.endswith('.traces'):\n",
    "                trace_files.append(file)\n",
    "            if file.endswith('.mask'):\n",
    "                mask_files.append(file)\n",
    "\n",
    "img_files.sort()\n",
    "trace_files.sort()\n",
    "mask_files.sort()\n",
    "\n",
    "train_size = round(len(img_files)*0.85)\n",
    "val_size = round(len(img_files)*0.12)\n",
    "\n",
    "for i in range(train_size):\n",
    "    \n",
    "    src = os.path.join(dir_after_extract, img_files[i])    \n",
    "    dst = os.path.join(train_img_dir, img_files[i])    \n",
    "    shutil.copyfile(src, dst)\n",
    "    \n",
    "    src = os.path.join(dir_after_extract, trace_files[i])    \n",
    "    dst = os.path.join(train_trace_dir, trace_files[i])    \n",
    "    shutil.copyfile(src, dst)\n",
    "    \n",
    "    src = os.path.join(dir_after_extract, mask_files[i])    \n",
    "    dst = os.path.join(train_mask_dir, mask_files[i])    \n",
    "    shutil.copyfile(src, dst)\n",
    "    \n",
    "for i in range(train_size, train_size+val_size):\n",
    "    \n",
    "    src = os.path.join(dir_after_extract, img_files[i])    \n",
    "    dst = os.path.join(validation_img_dir, img_files[i])    \n",
    "    shutil.copyfile(src, dst)\n",
    "    \n",
    "    src = os.path.join(dir_after_extract, trace_files[i])    \n",
    "    dst = os.path.join(validation_trace_dir, trace_files[i])    \n",
    "    shutil.copyfile(src, dst)\n",
    "    \n",
    "    src = os.path.join(dir_after_extract, mask_files[i])    \n",
    "    dst = os.path.join(validation_mask_dir, mask_files[i])    \n",
    "    shutil.copyfile(src, dst)\n",
    "    \n",
    "    \n",
    "for i in range(train_size+val_size, len(img_files)):\n",
    "    \n",
    "    src = os.path.join(dir_after_extract, img_files[i])    \n",
    "    dst = os.path.join(test_img_dir, img_files[i])    \n",
    "    shutil.copyfile(src, dst)\n",
    "    \n",
    "    src = os.path.join(dir_after_extract, trace_files[i])    \n",
    "    dst = os.path.join(test_trace_dir, trace_files[i])    \n",
    "    shutil.copyfile(src, dst)\n",
    "    \n",
    "    src = os.path.join(dir_after_extract, mask_files[i])    \n",
    "    dst = os.path.join(test_mask_dir, mask_files[i])    \n",
    "    shutil.copyfile(src, dst)\n",
    "    "
   ]
  },
  {
   "cell_type": "markdown",
   "metadata": {},
   "source": [
    "# Удаление исходных данных после распаковки"
   ]
  },
  {
   "cell_type": "code",
   "execution_count": 5,
   "metadata": {},
   "outputs": [],
   "source": [
    "shutil.rmtree(dir_after_extract)"
   ]
  },
  {
   "cell_type": "code",
   "execution_count": null,
   "metadata": {},
   "outputs": [],
   "source": []
  }
 ],
 "metadata": {
  "kernelspec": {
   "display_name": "Python 3 (ipykernel)",
   "language": "python",
   "name": "python3"
  },
  "language_info": {
   "codemirror_mode": {
    "name": "ipython",
    "version": 3
   },
   "file_extension": ".py",
   "mimetype": "text/x-python",
   "name": "python",
   "nbconvert_exporter": "python",
   "pygments_lexer": "ipython3",
   "version": "3.10.12"
  },
  "toc": {
   "base_numbering": 1,
   "nav_menu": {},
   "number_sections": true,
   "sideBar": true,
   "skip_h1_title": false,
   "title_cell": "Table of Contents",
   "title_sidebar": "Contents",
   "toc_cell": false,
   "toc_position": {},
   "toc_section_display": true,
   "toc_window_display": true
  }
 },
 "nbformat": 4,
 "nbformat_minor": 4
}
