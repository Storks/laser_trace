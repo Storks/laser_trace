{
 "cells": [
  {
   "cell_type": "code",
   "execution_count": 1,
   "metadata": {},
   "outputs": [
    {
     "data": {
      "text/plain": [
       "True"
      ]
     },
     "execution_count": 1,
     "metadata": {},
     "output_type": "execute_result"
    }
   ],
   "source": [
    "from tensorflow.keras.preprocessing.image import ImageDataGenerator\n",
    "import tensorflow as tf\n",
    "import os\n",
    "import numpy as np\n",
    "import matplotlib.pyplot as plt\n",
    "\n",
    "from pygit2 import Repository\n",
    "import time\n",
    "from dotenv import load_dotenv\n",
    "import mlflow\n",
    "\n",
    "load_dotenv()"
   ]
  },
  {
   "cell_type": "markdown",
   "metadata": {},
   "source": [
    "# Определение директорий"
   ]
  },
  {
   "cell_type": "code",
   "execution_count": 2,
   "metadata": {},
   "outputs": [],
   "source": [
    "test_mask_dir = \"../data/processed/test/mask/\"\n",
    "test_img_dir = \"../data/processed/test/img/\"\n",
    "\n",
    "train_dir = \"../data/processed/train/\"\n",
    "val_dir = \"../data/processed/validation/\"\n",
    "test_dir = \"../data/processed/test/\""
   ]
  },
  {
   "cell_type": "markdown",
   "metadata": {},
   "source": [
    "# Первый вариант генератора данных"
   ]
  },
  {
   "cell_type": "markdown",
   "metadata": {},
   "source": [
    "## Генератор чтения масок"
   ]
  },
  {
   "cell_type": "code",
   "execution_count": 3,
   "metadata": {},
   "outputs": [],
   "source": [
    "def MaskGenerator(directory, batch_size=1):\n",
    "    i = 0\n",
    "    files = sorted(os.listdir(directory))\n",
    "    n_files = len(files)\n",
    "    mask_batch = np.zeros([batch_size, 200, 2048, 1])\n",
    "    while 1:\n",
    "        for j in range(batch_size):\n",
    "            \n",
    "            mask = np.fromfile(os.path.join(directory,files[(i+j) % n_files]), dtype=np.ubyte)\n",
    "            mask_batch[j, :, :, :] = mask.reshape([1, 200, 2048, 1])\n",
    "            \n",
    "        i += batch_size\n",
    "        i = i % n_files\n",
    "        \n",
    "        yield mask_batch"
   ]
  },
  {
   "cell_type": "markdown",
   "metadata": {},
   "source": [
    "## Совместный генератор чтения изображений и масок"
   ]
  },
  {
   "cell_type": "markdown",
   "metadata": {},
   "source": [
    "Образцы данного генератора для тренировочных и валидационных данных с указанным размером батча подается на нейронную сеть при обучении."
   ]
  },
  {
   "cell_type": "code",
   "execution_count": 4,
   "metadata": {},
   "outputs": [],
   "source": [
    "def ImgMaskGenerator(directory, batch_size):\n",
    "\n",
    "    mask_generator = MaskGenerator(directory=os.path.join(directory, 'mask'),\n",
    "                                   batch_size=batch_size)\n",
    "    \n",
    "    img_datagen = ImageDataGenerator(rescale=1./255)\n",
    "    \n",
    "    img_generator = img_datagen.flow_from_directory(directory,\n",
    "                                             class_mode=None,\n",
    "                                             target_size=(200, 2048),\n",
    "                                             batch_size=batch_size,\n",
    "                                             shuffle=False,\n",
    "                                             )\n",
    "    \n",
    "    train_generator = zip(img_generator, mask_generator)\n",
    "    \n",
    "    return train_generator"
   ]
  },
  {
   "cell_type": "markdown",
   "metadata": {},
   "source": [
    "## Пример генератора"
   ]
  },
  {
   "cell_type": "code",
   "execution_count": 5,
   "metadata": {},
   "outputs": [
    {
     "name": "stdout",
     "output_type": "stream",
     "text": [
      "Found 27479 images belonging to 3 classes.\n"
     ]
    }
   ],
   "source": [
    "train_generator = ImgMaskGenerator(directory=train_dir,\n",
    "                                   batch_size=1)"
   ]
  },
  {
   "cell_type": "code",
   "execution_count": 6,
   "metadata": {},
   "outputs": [
    {
     "data": {
      "text/plain": [
       "<zip at 0x7ff133ae9940>"
      ]
     },
     "execution_count": 6,
     "metadata": {},
     "output_type": "execute_result"
    }
   ],
   "source": [
    "train_generator"
   ]
  },
  {
   "cell_type": "markdown",
   "metadata": {},
   "source": [
    "## Проверка пары выходных данных генератора (изображение, маска)"
   ]
  },
  {
   "cell_type": "code",
   "execution_count": 7,
   "metadata": {},
   "outputs": [
    {
     "name": "stdout",
     "output_type": "stream",
     "text": [
      "Тип выходных данных генератора (д.б. tuple): <class 'tuple'>\n",
      "(1, 200, 2048, 3)\n",
      "(1, 200, 2048, 1)\n"
     ]
    },
    {
     "data": {
      "text/plain": [
       "<matplotlib.image.AxesImage at 0x7ff1320e1910>"
      ]
     },
     "execution_count": 7,
     "metadata": {},
     "output_type": "execute_result"
    },
    {
     "data": {
      "image/png": "[encoded data removed]",
      "text/plain": [
       "<Figure size 720x720 with 1 Axes>"
      ]
     },
     "metadata": {
      "needs_background": "light"
     },
     "output_type": "display_data"
    },
    {
     "data": {
      "image/png": "[encoded data removed]",
      "text/plain": [
       "<Figure size 720x720 with 1 Axes>"
      ]
     },
     "metadata": {
      "needs_background": "light"
     },
     "output_type": "display_data"
    }
   ],
   "source": [
    "a = next(train_generator)\n",
    "\n",
    "print('Тип выходных данных генератора (д.б. tuple):', type(a))\n",
    "print(a[0].shape)\n",
    "print(a[1].shape)\n",
    "\n",
    "plt.figure(figsize=(10,10))\n",
    "plt.imshow(a[0][0,:,:,:])\n",
    "\n",
    "plt.figure(figsize=(10,10))\n",
    "plt.imshow(a[1][0,:,:,:])"
   ]
  },
  {
   "cell_type": "markdown",
   "metadata": {},
   "source": [
    "# Второй вариант генератора данных"
   ]
  },
  {
   "cell_type": "markdown",
   "metadata": {},
   "source": [
    "## Формирование массивов с путями к файлам"
   ]
  },
  {
   "cell_type": "code",
   "execution_count": 8,
   "metadata": {},
   "outputs": [],
   "source": [
    "def data_list_dir(directory: str) ->list:\n",
    "    \"\"\"\n",
    "    Create sorted list of files in directory\n",
    "    :param directory: input directory\n",
    "    :return: list_dir\n",
    "    \"\"\"\n",
    "    \n",
    "    dir_list = sorted([os.path.join(directory, fname)\n",
    "                       for fname in os.listdir(directory)])\n",
    "    \n",
    "    return dir_list"
   ]
  },
  {
   "cell_type": "code",
   "execution_count": 9,
   "metadata": {},
   "outputs": [
    {
     "name": "stdout",
     "output_type": "stream",
     "text": [
      "Number of samples: 27479 27479\n",
      "210416D.003_1400701D.E003_0_0.jpg | 210416D.003_1400701D.E003_0_0.mask\n",
      "210416D.003_1400701D.E003_0_1.jpg | 210416D.003_1400701D.E003_0_1.mask\n",
      "6D.003_1400701D.E003_100000_1.jpg | 6D.003_1400701D.E003_100000_1.mask\n",
      "6D.003_1400701D.E003_100005_1.jpg | 6D.003_1400701D.E003_100005_1.mask\n",
      "16D.003_1400701D.E003_10000_1.jpg | 16D.003_1400701D.E003_10000_1.mask\n",
      "6D.003_1400701D.E003_100010_1.jpg | 6D.003_1400701D.E003_100010_1.mask\n",
      "6D.003_1400701D.E003_100015_1.jpg | 6D.003_1400701D.E003_100015_1.mask\n",
      "6D.003_1400701D.E003_100020_1.jpg | 6D.003_1400701D.E003_100020_1.mask\n",
      "6D.003_1400701D.E003_100025_1.jpg | 6D.003_1400701D.E003_100025_1.mask\n",
      "6D.003_1400701D.E003_100030_1.jpg | 6D.003_1400701D.E003_100030_1.mask\n",
      "Количество изображений: 27479\n"
     ]
    }
   ],
   "source": [
    "train_img_dir = os.path.join(train_dir, 'img')\n",
    "images = data_list_dir(train_img_dir)\n",
    "\n",
    "train_mask_dir = os.path.join(train_dir, 'mask')\n",
    "masks = data_list_dir(train_mask_dir)\n",
    "\n",
    "print(\"Number of samples:\", len(images), len(masks))\n",
    "for train_img_dir, train_mask_dir in zip(images[:10], masks[:10]):\n",
    "    print(train_img_dir[-33:], \"|\", train_mask_dir[-34:])\n",
    "    \n",
    "print('Количество изображений:', len(images))"
   ]
  },
  {
   "cell_type": "markdown",
   "metadata": {},
   "source": [
    "## Функции чтения изображения маски, выходные данные - TF тензор"
   ]
  },
  {
   "cell_type": "code",
   "execution_count": 10,
   "metadata": {},
   "outputs": [],
   "source": [
    "IMAGE_HEIGHT = 128\n",
    "IMAGE_WIDTH = 1024\n",
    "CHANNELS = 3\n",
    "\n",
    "\n",
    "def read_data_img(file_path, height=IMAGE_HEIGHT, width=IMAGE_WIDTH):\n",
    "    \n",
    "    data = tf.io.read_file(file_path)\n",
    "    data = tf.image.decode_png(data, channels=CHANNELS)\n",
    "    data.set_shape([None, None, CHANNELS])\n",
    "    data = tf.image.resize(images=data, size=[height, width])\n",
    "    data = data / 255.\n",
    "    \n",
    "    return data\n",
    "\n",
    "def read_data_mask(file_path, height=IMAGE_HEIGHT, width=IMAGE_WIDTH):\n",
    "    \n",
    "    data = tf.io.read_file(file_path)\n",
    "    data = tf.io.decode_raw(data, tf.int8)\n",
    "    data = tf.reshape(data, [200, 2048,1])\n",
    "    data = tf.image.resize(images=data, size=[height, width])\n",
    "    \n",
    "    return data"
   ]
  },
  {
   "cell_type": "code",
   "execution_count": null,
   "metadata": {},
   "outputs": [],
   "source": []
  },
  {
   "cell_type": "markdown",
   "metadata": {},
   "source": [
    "## Совместный генератор чтения изображений и масок"
   ]
  },
  {
   "cell_type": "code",
   "execution_count": 11,
   "metadata": {},
   "outputs": [],
   "source": [
    "def load_img_mask(image_list, mask_list):\n",
    "    image = read_data_img(image_list)\n",
    "    mask  = read_data_mask(mask_list)\n",
    "    return image, mask\n",
    "\n",
    "\n",
    "def img_mask_generator(directory, split='train', batch_size=1):\n",
    "    \n",
    "    image_list = data_list_dir(os.path.join(directory,'img'))\n",
    "    mask_list = data_list_dir(os.path.join(directory,'mask'))\n",
    "    \n",
    "    dataset = tf.data.Dataset.from_tensor_slices((image_list, mask_list))\n",
    "    dataset = dataset.shuffle(8*batch_size) if split == 'train' else dataset \n",
    "    dataset = dataset.map(load_img_mask, num_parallel_calls=tf.data.AUTOTUNE)\n",
    "    dataset = dataset.batch(batch_size, drop_remainder=True)\n",
    "    dataset = dataset.prefetch(tf.data.AUTOTUNE)\n",
    "    return dataset"
   ]
  },
  {
   "cell_type": "markdown",
   "metadata": {},
   "source": [
    "## Пример генератора"
   ]
  },
  {
   "cell_type": "code",
   "execution_count": 12,
   "metadata": {},
   "outputs": [
    {
     "name": "stderr",
     "output_type": "stream",
     "text": [
      "2022-06-18 10:26:29.422516: I tensorflow/stream_executor/cuda/cuda_gpu_executor.cc:936] successful NUMA node read from SysFS had negative value (-1), but there must be at least one NUMA node, so returning NUMA node zero\n",
      "2022-06-18 10:26:29.456489: W tensorflow/stream_executor/platform/default/dso_loader.cc:64] Could not load dynamic library 'libcudnn.so.8'; dlerror: libcudnn.so.8: cannot open shared object file: No such file or directory\n",
      "2022-06-18 10:26:29.456511: W tensorflow/core/common_runtime/gpu/gpu_device.cc:1850] Cannot dlopen some GPU libraries. Please make sure the missing libraries mentioned above are installed properly if you would like to use GPU. Follow the guide at https://www.tensorflow.org/install/gpu for how to download and setup the required libraries for your platform.\n",
      "Skipping registering GPU devices...\n",
      "2022-06-18 10:26:29.457177: I tensorflow/core/platform/cpu_feature_guard.cc:151] This TensorFlow binary is optimized with oneAPI Deep Neural Network Library (oneDNN) to use the following CPU instructions in performance-critical operations:  AVX2 FMA\n",
      "To enable them in other operations, rebuild TensorFlow with the appropriate compiler flags.\n"
     ]
    }
   ],
   "source": [
    "train_datagen = img_mask_generator(train_dir, batch_size=16)\n",
    "val_datagen = img_mask_generator(val_dir, batch_size=16)"
   ]
  },
  {
   "cell_type": "code",
   "execution_count": 13,
   "metadata": {},
   "outputs": [
    {
     "data": {
      "text/plain": [
       "tensorflow.python.data.ops.dataset_ops.PrefetchDataset"
      ]
     },
     "execution_count": 13,
     "metadata": {},
     "output_type": "execute_result"
    }
   ],
   "source": [
    "type(train_datagen)"
   ]
  },
  {
   "cell_type": "markdown",
   "metadata": {},
   "source": [
    "## Проверка пары выходных данных генератора (изображение, маска)"
   ]
  },
  {
   "cell_type": "code",
   "execution_count": 14,
   "metadata": {},
   "outputs": [
    {
     "name": "stdout",
     "output_type": "stream",
     "text": [
      "Тип выходных данных генератора (д.б. tuple): <class 'tuple'>\n",
      "(16, 128, 1024, 3)\n",
      "(16, 128, 1024, 1)\n"
     ]
    },
    {
     "data": {
      "text/plain": [
       "<matplotlib.image.AxesImage at 0x7ff13108bb80>"
      ]
     },
     "execution_count": 14,
     "metadata": {},
     "output_type": "execute_result"
    },
    {
     "data": {
      "image/png": "[encoded data removed]",
      "text/plain": [
       "<Figure size 1440x720 with 1 Axes>"
      ]
     },
     "metadata": {
      "needs_background": "light"
     },
     "output_type": "display_data"
    },
    {
     "data": {
      "image/png": "[encoded data removed]",
      "text/plain": [
       "<Figure size 1440x720 with 1 Axes>"
      ]
     },
     "metadata": {
      "needs_background": "light"
     },
     "output_type": "display_data"
    }
   ],
   "source": [
    "a = next(iter(val_datagen.take(1)))\n",
    "\n",
    "print('Тип выходных данных генератора (д.б. tuple):', type(a))\n",
    "print(a[0].shape)\n",
    "print(a[1].shape)\n",
    "\n",
    "plt.figure(figsize=(20,10))\n",
    "plt.imshow(a[0][1,:,:,:])\n",
    "\n",
    "plt.figure(figsize=(20,10))\n",
    "plt.imshow(a[1][1,:,:,:])"
   ]
  }
 ],
 "metadata": {
  "kernelspec": {
   "display_name": "Python 3",
   "language": "python",
   "name": "python3"
  },
  "language_info": {
   "codemirror_mode": {
    "name": "ipython",
    "version": 3
   },
   "file_extension": ".py",
   "mimetype": "text/x-python",
   "name": "python",
   "nbconvert_exporter": "python",
   "pygments_lexer": "ipython3",
   "version": "3.8.10"
  },
  "toc": {
   "base_numbering": 1,
   "nav_menu": {},
   "number_sections": true,
   "sideBar": true,
   "skip_h1_title": false,
   "title_cell": "Table of Contents",
   "title_sidebar": "Contents",
   "toc_cell": false,
   "toc_position": {},
   "toc_section_display": true,
   "toc_window_display": true
  }
 },
 "nbformat": 4,
 "nbformat_minor": 4
}
