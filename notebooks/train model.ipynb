{
 "cells": [
  {
   "cell_type": "code",
   "execution_count": null,
   "metadata": {},
   "outputs": [],
   "source": [
    "import tensorflow as tf\n",
    "from tensorflow import keras \n",
    "from tensorflow.keras import layers\n",
    "\n",
    "from pygit2 import Repository\n",
    "import time\n",
    "from dotenv import load_dotenv\n",
    "import mlflow\n",
    "import matplotlib.pyplot as plt\n",
    "import numpy as np\n",
    "import sys  \n",
    "sys.path.insert(0, '../src/data/')\n",
    "from dataset_generators import *\n",
    "\n",
    "load_dotenv()"
   ]
  },
  {
   "cell_type": "code",
   "execution_count": null,
   "metadata": {},
   "outputs": [],
   "source": [
    "IMAGE_HEIGHT = 128\n",
    "IMAGE_WIDTH = 1024\n",
    "CHANNELS = 3"
   ]
  },
  {
   "cell_type": "code",
   "execution_count": null,
   "metadata": {},
   "outputs": [],
   "source": [
    "test_mask_dir = \"../data/processed/test/mask/\"\n",
    "test_img_dir = \"../data/processed/test/img/\"\n",
    "\n",
    "train_dir = \"../data/processed/train/\"\n",
    "val_dir = \"../data/processed/validation/\"\n",
    "test_dir = \"../data/processed/test/\""
   ]
  },
  {
   "cell_type": "markdown",
   "metadata": {},
   "source": [
    "# Нейронная сеть"
   ]
  },
  {
   "cell_type": "markdown",
   "metadata": {},
   "source": [
    "## Архитектура сети"
   ]
  },
  {
   "cell_type": "code",
   "execution_count": null,
   "metadata": {},
   "outputs": [],
   "source": [
    "def res_down_block(inputs, num_filters):\n",
    "    x = layers.SeparableConv2D(filters=num_filters, kernel_size=3, \n",
    "                              padding = 'same')(inputs)\n",
    "    x = layers.BatchNormalization()(x)\n",
    "    x = layers.Activation('relu')(x)\n",
    "    x = layers.SeparableConv2D(filters=num_filters, kernel_size=3, \n",
    "                              padding = 'same')(x)\n",
    "    \n",
    "    x = layers.BatchNormalization()(x)\n",
    "    x = layers.Activation('relu')(x)\n",
    "    \n",
    "    #residual\n",
    "    \n",
    "    y = layers.SeparableConv2D(filters=num_filters, kernel_size=3, \n",
    "                              padding = 'same')(inputs)\n",
    "    x = layers.concatenate([x,y])\n",
    "    x = layers.MaxPool2D(pool_size=3, strides=2, padding='same')(x)\n",
    "    return x\n",
    "\n",
    "def res_up_block(inputs, num_filters):\n",
    "    x = layers.Conv2DTranspose(filters=num_filters, kernel_size=3, \n",
    "                              padding = 'same')(inputs)\n",
    "    x = layers.BatchNormalization()(x)\n",
    "    x = layers.Activation('relu')(x)\n",
    "    x = layers.Conv2DTranspose(filters=num_filters, kernel_size=3, \n",
    "                              padding = 'same')(x)\n",
    "    \n",
    "    x = layers.BatchNormalization()(x)\n",
    "    x = layers.Activation('relu')(x)\n",
    "    \n",
    "    #residual\n",
    "    \n",
    "    y = layers.Conv2D(num_filters, 1, padding=\"same\")(inputs)\n",
    "    \n",
    "    x = layers.concatenate([x,y])\n",
    "    x = layers.UpSampling2D(2)(x)\n",
    "    return x\n",
    "    \n",
    "# https://keras.io/examples/vision/oxford_pets_image_segmentation/\n",
    "def get_model(img_size, num_classes):\n",
    "    \n",
    "    inputs = keras.Input(shape=img_size + (CHANNELS,))\n",
    "\n",
    "    ### [First half of the network: downsampling inputs] ###\n",
    "\n",
    "    # Entry block\n",
    "    x = layers.Conv2D(8, 3, strides=2, padding=\"same\")(inputs)   \n",
    "    x = layers.BatchNormalization()(x)\n",
    "    x = layers.Activation(\"relu\")(x)\n",
    "    \n",
    "    \n",
    "    previous_block_activation = x  # Set aside residual\n",
    "\n",
    "    # Blocks 1, 2, 3 are identical apart from the feature depth.\n",
    "    for filters in [8]:\n",
    "        x = res_down_block(x, filters)\n",
    "    ### [Second half of the network: upsampling inputs] ###\n",
    "\n",
    "    for filters in [8, 4]:\n",
    "        x= res_up_block(x, filters)\n",
    "\n",
    "    # Add a per-pixel classification layer\n",
    "    outputs = layers.Conv2D(num_classes, 3, activation=\"sigmoid\", padding=\"same\")(x)\n",
    "\n",
    "    # Define the model\n",
    "    model = keras.Model(inputs, outputs)\n",
    "    return model\n",
    "\n",
    "\n",
    "# Free up RAM in case the model definition cells were run multiple times\n",
    "keras.backend.clear_session()\n",
    "\n",
    "# Build model\n",
    "model = get_model(img_size=(IMAGE_HEIGHT, IMAGE_WIDTH), num_classes=1)\n",
    "keras.utils.plot_model(model, show_shapes=True)"
   ]
  },
  {
   "cell_type": "markdown",
   "metadata": {},
   "source": [
    "## Dice metric and loss"
   ]
  },
  {
   "cell_type": "code",
   "execution_count": null,
   "metadata": {},
   "outputs": [],
   "source": [
    "def dice_coef(y_true, y_pred):\n",
    "    y_true_f = tf.keras.backend.flatten(y_true)\n",
    "    y_pred_f = tf.keras.backend.flatten(y_pred)\n",
    "    intersection = tf.keras.backend.sum(y_true_f * y_pred_f)\n",
    "    return (2. * intersection + 1) / (tf.keras.backend.sum(y_true_f) + tf.keras.backend.sum(y_pred_f) + 1)\n",
    "\n",
    "def dice_coef_loss(y_true, y_pred):\n",
    "    return -dice_coef(y_true, y_pred)"
   ]
  },
  {
   "cell_type": "markdown",
   "metadata": {},
   "source": [
    "## Model compile"
   ]
  },
  {
   "cell_type": "code",
   "execution_count": null,
   "metadata": {},
   "outputs": [],
   "source": [
    "# define optomizer\n",
    "optim = keras.optimizers.Adam(0.001)\n",
    "bce   = keras.losses.BinaryCrossentropy()\n",
    "metrics = [dice_coef, \"accuracy\"]\n",
    "\n",
    "# compile keras model with defined optimozer, loss and metrics\n",
    "model.compile(optimizer=optim, loss=dice_coef_loss, metrics=metrics)"
   ]
  },
  {
   "cell_type": "markdown",
   "metadata": {},
   "source": [
    "## Callbacks"
   ]
  },
  {
   "cell_type": "code",
   "execution_count": null,
   "metadata": {},
   "outputs": [],
   "source": [
    "class DisplayCallback(tf.keras.callbacks.Callback):\n",
    "    def __init__(self, dataset, batch_interval=400):\n",
    "        self.dataset = dataset\n",
    "        self.batch_interval = batch_interval\n",
    "    \n",
    "    def display(self, display_list, extra_title=''):\n",
    "        plt.figure(figsize=(20, 20))\n",
    "        title = ['Input Image', 'True Mask', 'Predicted Mask']\n",
    "\n",
    "        if len(display_list) > len(title):\n",
    "            title.append(extra_title)\n",
    "\n",
    "        for i in range(len(display_list)):\n",
    "            plt.subplot(1, len(display_list), i+1)\n",
    "            plt.title(title[i])\n",
    "            plt.imshow(display_list[i])\n",
    "            plt.axis('off')\n",
    "        plt.show()\n",
    "        \n",
    "    def create_mask(self, pred_mask):\n",
    "        pred_mask = (pred_mask > 0.5).astype(\"int32\")\n",
    "        return pred_mask[0]\n",
    "    \n",
    "    def show_predictions(self, dataset, num=1):\n",
    "        for image, mask in dataset.take(num):\n",
    "            pred_mask = model.predict(image)\n",
    "            self.display([image[0], mask[0], self.create_mask(pred_mask)])\n",
    "        \n",
    "    def on_batch_end(self, batch, logs=None):\n",
    "        if batch and batch % self.batch_interval == 0:\n",
    "            self.show_predictions(self.dataset)\n",
    "            print ('\\nSample Prediction after batch {}\\n'.format(batch))"
   ]
  },
  {
   "cell_type": "markdown",
   "metadata": {},
   "source": [
    "## Data generators"
   ]
  },
  {
   "cell_type": "code",
   "execution_count": null,
   "metadata": {},
   "outputs": [],
   "source": [
    "epochs = 2\n",
    "batch_size = 8\n",
    "train_datagen = img_mask_generator(train_dir, batch_size=batch_size, epochs = epochs)\n",
    "val_datagen = img_mask_generator(val_dir, batch_size=batch_size, split = 'val', epochs = epochs)"
   ]
  },
  {
   "cell_type": "code",
   "execution_count": null,
   "metadata": {},
   "outputs": [],
   "source": []
  },
  {
   "cell_type": "markdown",
   "metadata": {},
   "source": [
    "## Model Training"
   ]
  },
  {
   "cell_type": "code",
   "execution_count": null,
   "metadata": {},
   "outputs": [],
   "source": [
    "mlflow.set_tracking_uri('http://localhost:5000')\n",
    "mlflow.tensorflow.autolog()\n",
    "mlflow.set_experiment(experiment_name=Repository('.').head.shorthand)\n",
    "\n",
    "with mlflow.start_run():\n",
    "    \n",
    "    model.fit(\n",
    "        train_datagen,\n",
    "        steps_per_epoch=len(train_datagen),\n",
    "        epochs=epochs,\n",
    "        validation_data=val_datagen,\n",
    "        validation_steps=len(val_datagen),\n",
    "        callbacks=[DisplayCallback(train_datagen)]\n",
    "    )\n",
    "    \n",
    "    \n",
    "    time_of_prediction_array = np.zeros(100)\n",
    "    \n",
    "    test_image_path = '../data/processed/test/img/210416D.003_1400701D.E003_96860_2.jpg'\n",
    "    test_img = read_data_img(test_image_path)\n",
    "    test_img = tf.reshape(test_img, [1, 128, 1024, CHANNELS])\n",
    "    \n",
    "    for i in range(100):\n",
    "        \n",
    "        start = time.perf_counter()\n",
    "        mask = model.predict(test_img)\n",
    "        end = time.perf_counter()\n",
    "        \n",
    "        time_of_prediction_array[i] = end - start\n",
    "        \n",
    "    speed_metrics = {'pred_time': time_of_prediction_array[1:].mean(),\n",
    "                     'RMSE_pred_time': time_of_prediction_array[1:].std() }    \n",
    "    mlflow.log_metrics(speed_metrics)"
   ]
  },
  {
   "cell_type": "markdown",
   "metadata": {},
   "source": [
    "## Model Test"
   ]
  },
  {
   "cell_type": "code",
   "execution_count": null,
   "metadata": {},
   "outputs": [],
   "source": [
    "test_image_path = '../data/processed/test/img/210416D.003_1400701D.E003_96860_2.jpg'\n",
    "test_img = read_data_img(test_image_path)\n",
    "test_img = tf.reshape(test_img, [1, IMAGE_HEIGHT, IMAGE_WIDTH, CHANNELS])"
   ]
  },
  {
   "cell_type": "code",
   "execution_count": null,
   "metadata": {},
   "outputs": [],
   "source": [
    "plt.figure(figsize=(20, 10))\n",
    "plt.imshow(test_img[0])\n",
    "plt.figure(figsize=(20, 10))\n",
    "mask = model.predict(test_img)\n",
    "plt.imshow(mask[0])"
   ]
  },
  {
   "cell_type": "code",
   "execution_count": null,
   "metadata": {},
   "outputs": [],
   "source": []
  }
 ],
 "metadata": {
  "kernelspec": {
   "display_name": "Python 3",
   "language": "python",
   "name": "python3"
  },
  "language_info": {
   "codemirror_mode": {
    "name": "ipython",
    "version": 3
   },
   "file_extension": ".py",
   "mimetype": "text/x-python",
   "name": "python",
   "nbconvert_exporter": "python",
   "pygments_lexer": "ipython3",
   "version": "3.8.10"
  },
  "toc": {
   "base_numbering": 1,
   "nav_menu": {},
   "number_sections": true,
   "sideBar": true,
   "skip_h1_title": false,
   "title_cell": "Table of Contents",
   "title_sidebar": "Contents",
   "toc_cell": false,
   "toc_position": {},
   "toc_section_display": true,
   "toc_window_display": true
  },
  "varInspector": {
   "cols": {
    "lenName": 16,
    "lenType": 16,
    "lenVar": 40
   },
   "kernels_config": {
    "python": {
     "delete_cmd_postfix": "",
     "delete_cmd_prefix": "del ",
     "library": "var_list.py",
     "varRefreshCmd": "print(var_dic_list())"
    },
    "r": {
     "delete_cmd_postfix": ") ",
     "delete_cmd_prefix": "rm(",
     "library": "var_list.r",
     "varRefreshCmd": "cat(var_dic_list()) "
    }
   },
   "types_to_exclude": [
    "module",
    "function",
    "builtin_function_or_method",
    "instance",
    "_Feature"
   ],
   "window_display": false
  }
 },
 "nbformat": 4,
 "nbformat_minor": 4
}
